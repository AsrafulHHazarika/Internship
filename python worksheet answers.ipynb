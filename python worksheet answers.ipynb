{
 "cells": [
  {
   "cell_type": "code",
   "execution_count": 1,
   "metadata": {},
   "outputs": [
    {
     "name": "stdout",
     "output_type": "stream",
     "text": [
      "Enter a number = 10\n",
      "factorial is  3628800\n"
     ]
    }
   ],
   "source": [
    "# 11.\n",
    "\n",
    "f=1\n",
    "n=int(input('Enter a number = '))\n",
    "for i in range(n,0,-1):\n",
    "    f=f*i\n",
    "print('factorial is ',f)    "
   ]
  },
  {
   "cell_type": "code",
   "execution_count": 2,
   "metadata": {},
   "outputs": [
    {
     "name": "stdout",
     "output_type": "stream",
     "text": [
      "Enter any number : 34\n",
      "Given number is a composite number\n"
     ]
    }
   ],
   "source": [
    "# 12.\n",
    "\n",
    "number=int(input('Enter any number : '))\n",
    "count=0\n",
    "i=1\n",
    "while(i<=number):\n",
    "    if number%i==0:\n",
    "        count=count+1\n",
    "    i=i+1\n",
    "if count==2:\n",
    "    print('Given number is prime')\n",
    "elif count>2:\n",
    "    print('Given number is a composite number')\n",
    "else:\n",
    "    print('The number is neither prime nor composite')"
   ]
  },
  {
   "cell_type": "code",
   "execution_count": 3,
   "metadata": {},
   "outputs": [
    {
     "name": "stdout",
     "output_type": "stream",
     "text": [
      "Enter any series : aabbccddccbbaa\n",
      "series is palindrome\n"
     ]
    }
   ],
   "source": [
    "# 13.\n",
    "\n",
    "s=input('Enter any series : ')\n",
    "p=s[-1::-1]\n",
    "if(s==p):\n",
    "    print('series is palindrome')\n",
    "else:\n",
    "    print('series is not palindrome')"
   ]
  },
  {
   "cell_type": "code",
   "execution_count": 9,
   "metadata": {},
   "outputs": [],
   "source": [
    "# 14.\n",
    "\n",
    "import math"
   ]
  },
  {
   "cell_type": "code",
   "execution_count": 10,
   "metadata": {},
   "outputs": [],
   "source": [
    "from math import sqrt"
   ]
  },
  {
   "cell_type": "code",
   "execution_count": 12,
   "metadata": {},
   "outputs": [
    {
     "name": "stdout",
     "output_type": "stream",
     "text": [
      "Enter the first side : 6\n",
      "Enter the second side : 9\n",
      "The length of the third side of the triangle is :  10.816653826391969\n"
     ]
    }
   ],
   "source": [
    "a=float(input('Enter the first side : '))\n",
    "b=float(input('Enter the second side : '))\n",
    "x=sqrt(a**2 + b**2)\n",
    "print('The length of the third side of the triangle is : ',x)"
   ]
  },
  {
   "cell_type": "code",
   "execution_count": 16,
   "metadata": {},
   "outputs": [
    {
     "name": "stdout",
     "output_type": "stream",
     "text": [
      "Enter a string : ashraful\n"
     ]
    }
   ],
   "source": [
    "# 15.\n",
    "\n",
    "s=input('Enter a string : ')\n",
    "count={}\n",
    "for i in s:\n",
    "    if i in count.keys():\n",
    "        count[i]+=1\n",
    "    else:\n",
    "        count[i]=1"
   ]
  },
  {
   "cell_type": "code",
   "execution_count": 17,
   "metadata": {},
   "outputs": [
    {
     "data": {
      "text/plain": [
       "{'a': 2, 's': 1, 'h': 1, 'r': 1, 'f': 1, 'u': 1, 'l': 1}"
      ]
     },
     "execution_count": 17,
     "metadata": {},
     "output_type": "execute_result"
    }
   ],
   "source": [
    "count"
   ]
  },
  {
   "cell_type": "code",
   "execution_count": null,
   "metadata": {},
   "outputs": [],
   "source": []
  }
 ],
 "metadata": {
  "kernelspec": {
   "display_name": "Python 3",
   "language": "python",
   "name": "python3"
  },
  "language_info": {
   "codemirror_mode": {
    "name": "ipython",
    "version": 3
   },
   "file_extension": ".py",
   "mimetype": "text/x-python",
   "name": "python",
   "nbconvert_exporter": "python",
   "pygments_lexer": "ipython3",
   "version": "3.8.5"
  }
 },
 "nbformat": 4,
 "nbformat_minor": 4
}
